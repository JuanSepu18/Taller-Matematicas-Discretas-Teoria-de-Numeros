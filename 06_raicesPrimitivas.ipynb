{
  "nbformat": 4,
  "nbformat_minor": 0,
  "metadata": {
    "colab": {
      "name": "06_raicesPrimitivas",
      "provenance": [],
      "authorship_tag": "ABX9TyPAaWxkX8AsXSyupXTTTlil",
      "include_colab_link": true
    },
    "kernelspec": {
      "name": "python3",
      "display_name": "Python 3"
    },
    "language_info": {
      "name": "python"
    }
  },
  "cells": [
    {
      "cell_type": "markdown",
      "metadata": {
        "id": "view-in-github",
        "colab_type": "text"
      },
      "source": [
        "<a href=\"https://colab.research.google.com/github/JuanSepu18/Taller-Matematicas-Discretas-Teoria-de-Numeros/blob/main/06_raicesPrimitivas.ipynb\" target=\"_parent\"><img src=\"https://colab.research.google.com/assets/colab-badge.svg\" alt=\"Open In Colab\"/></a>"
      ]
    },
    {
      "cell_type": "markdown",
      "source": [
        "![image.png](data:image/png;base64,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)"
      ],
      "metadata": {
        "id": "W5V2YdpK41m6"
      }
    },
    {
      "cell_type": "code",
      "execution_count": 15,
      "metadata": {
        "id": "v9_Lciho0mqX"
      },
      "outputs": [],
      "source": [
        "def es_raiz_primitiva(n,p):\n",
        "  modulos = []\n",
        "  comprobador = 0\n",
        "  sumareal = 0\n",
        "  \n",
        "\n",
        "  for i in range(1,p):\n",
        "    comprobador += i\n",
        "    sumareal += ((n**i)%p)\n",
        "    modulos.append((n**i)%p)\n",
        "  if comprobador == sumareal:\n",
        "    return \"Si!\"\n",
        "  else:\n",
        "    return \"NO!\"\n",
        "    "
      ]
    },
    {
      "cell_type": "code",
      "source": [
        "es_raiz_primitiva(3,11)"
      ],
      "metadata": {
        "colab": {
          "base_uri": "https://localhost:8080/",
          "height": 35
        },
        "id": "SB3aKrzf2Ehf",
        "outputId": "d439d592-33d1-41af-82eb-9c326776f4fa"
      },
      "execution_count": 18,
      "outputs": [
        {
          "output_type": "execute_result",
          "data": {
            "application/vnd.google.colaboratory.intrinsic+json": {
              "type": "string"
            },
            "text/plain": [
              "'NO!'"
            ]
          },
          "metadata": {},
          "execution_count": 18
        }
      ]
    },
    {
      "cell_type": "code",
      "source": [
        "es_raiz_primitiva(2,11)"
      ],
      "metadata": {
        "colab": {
          "base_uri": "https://localhost:8080/",
          "height": 35
        },
        "id": "ROJloc3A4P8L",
        "outputId": "32c4fbaa-8435-4b6c-d99b-bab8b0ced227"
      },
      "execution_count": 19,
      "outputs": [
        {
          "output_type": "execute_result",
          "data": {
            "application/vnd.google.colaboratory.intrinsic+json": {
              "type": "string"
            },
            "text/plain": [
              "'Si!'"
            ]
          },
          "metadata": {},
          "execution_count": 19
        }
      ]
    },
    {
      "cell_type": "code",
      "source": [
        "es_raiz_primitiva(3,7)"
      ],
      "metadata": {
        "colab": {
          "base_uri": "https://localhost:8080/",
          "height": 35
        },
        "id": "Kw9UaBaJ4TIt",
        "outputId": "971971a5-cc5d-4cad-ccdd-bc5e327ccc9c"
      },
      "execution_count": 20,
      "outputs": [
        {
          "output_type": "execute_result",
          "data": {
            "application/vnd.google.colaboratory.intrinsic+json": {
              "type": "string"
            },
            "text/plain": [
              "'Si!'"
            ]
          },
          "metadata": {},
          "execution_count": 20
        }
      ]
    },
    {
      "cell_type": "code",
      "source": [
        "es_raiz_primitiva(5,5)"
      ],
      "metadata": {
        "colab": {
          "base_uri": "https://localhost:8080/",
          "height": 35
        },
        "id": "MiHR0osC4W0v",
        "outputId": "15c49f46-02db-4bd6-c344-01ae7ed1b813"
      },
      "execution_count": 21,
      "outputs": [
        {
          "output_type": "execute_result",
          "data": {
            "application/vnd.google.colaboratory.intrinsic+json": {
              "type": "string"
            },
            "text/plain": [
              "'NO!'"
            ]
          },
          "metadata": {},
          "execution_count": 21
        }
      ]
    },
    {
      "cell_type": "code",
      "source": [
        "es_raiz_primitiva(29,79)"
      ],
      "metadata": {
        "colab": {
          "base_uri": "https://localhost:8080/",
          "height": 35
        },
        "id": "ikSFZ4AU4n_a",
        "outputId": "e300d248-449a-41aa-e231-3a62eb2af432"
      },
      "execution_count": 22,
      "outputs": [
        {
          "output_type": "execute_result",
          "data": {
            "application/vnd.google.colaboratory.intrinsic+json": {
              "type": "string"
            },
            "text/plain": [
              "'Si!'"
            ]
          },
          "metadata": {},
          "execution_count": 22
        }
      ]
    },
    {
      "cell_type": "code",
      "source": [
        "es_raiz_primitiva(50,83)"
      ],
      "metadata": {
        "colab": {
          "base_uri": "https://localhost:8080/",
          "height": 35
        },
        "id": "0LTbuY6g4reP",
        "outputId": "2ac42580-823b-4a18-eee7-386855329b16"
      },
      "execution_count": 24,
      "outputs": [
        {
          "output_type": "execute_result",
          "data": {
            "application/vnd.google.colaboratory.intrinsic+json": {
              "type": "string"
            },
            "text/plain": [
              "'Si!'"
            ]
          },
          "metadata": {},
          "execution_count": 24
        }
      ]
    }
  ]
}