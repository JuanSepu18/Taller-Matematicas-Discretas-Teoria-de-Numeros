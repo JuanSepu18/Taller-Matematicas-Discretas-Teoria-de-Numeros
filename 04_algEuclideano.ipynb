{
  "nbformat": 4,
  "nbformat_minor": 0,
  "metadata": {
    "colab": {
      "name": "04_algEuclideano",
      "provenance": [],
      "authorship_tag": "ABX9TyN/Y5FCXJJZx8t84outww7Q",
      "include_colab_link": true
    },
    "kernelspec": {
      "name": "python3",
      "display_name": "Python 3"
    },
    "language_info": {
      "name": "python"
    }
  },
  "cells": [
    {
      "cell_type": "markdown",
      "metadata": {
        "id": "view-in-github",
        "colab_type": "text"
      },
      "source": [
        "<a href=\"https://colab.research.google.com/github/JuanSepu18/Taller-Matematicas-Discretas-Teoria-de-Numeros/blob/main/04_algEuclideano.ipynb\" target=\"_parent\"><img src=\"https://colab.research.google.com/assets/colab-badge.svg\" alt=\"Open In Colab\"/></a>"
      ]
    },
    {
      "cell_type": "markdown",
      "source": [
        "![image.png](data:image/png;base64,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)"
      ],
      "metadata": {
        "id": "qSrq2ICAr7Il"
      }
    },
    {
      "cell_type": "code",
      "execution_count": 55,
      "metadata": {
        "id": "Q6wcdtYSroiq"
      },
      "outputs": [],
      "source": [
        "def mcd(num1,num2):\n",
        "  if num2>num1:\n",
        "    variable = num2\n",
        "    num2 = num1\n",
        "    num1 = variable\n",
        "  residuo = 1000\n",
        "  while(residuo != 0):\n",
        "    residuo = num1%num2\n",
        "\n",
        "    if(residuo != 0):\n",
        "      num1 = num2\n",
        "      num2 = residuo\n",
        "      \n",
        "  return num2"
      ]
    },
    {
      "cell_type": "code",
      "source": [
        "print(mcd(5,18))\n",
        "\n",
        "print(mcd(273,110))\n",
        "\n",
        "print(mcd(20,10))"
      ],
      "metadata": {
        "colab": {
          "base_uri": "https://localhost:8080/"
        },
        "id": "nK1JPL4EtEna",
        "outputId": "efe46e41-5f49-4a76-a68a-82ae547d0f70"
      },
      "execution_count": 56,
      "outputs": [
        {
          "output_type": "stream",
          "name": "stdout",
          "text": [
            "1\n",
            "1\n",
            "10\n"
          ]
        }
      ]
    },
    {
      "cell_type": "code",
      "source": [
        "def primos_relativos(a,b):\n",
        "  if(mcd(a,b) == 1):\n",
        "    variable = \"Si!\"\n",
        "  else:\n",
        "    variable = \"No!\"\n",
        "  \n",
        "  \n",
        "  return variable"
      ],
      "metadata": {
        "id": "RhioM69VzYv5"
      },
      "execution_count": 62,
      "outputs": []
    },
    {
      "cell_type": "code",
      "source": [
        "print(primos_relativos(5,18))\n",
        "print(primos_relativos(25,5))"
      ],
      "metadata": {
        "colab": {
          "base_uri": "https://localhost:8080/"
        },
        "id": "ZFvVGNrtzvZz",
        "outputId": "0b608c15-ccb8-43b9-a4ca-e94f0eef658f"
      },
      "execution_count": 63,
      "outputs": [
        {
          "output_type": "stream",
          "name": "stdout",
          "text": [
            "Si!\n",
            "No!\n"
          ]
        }
      ]
    }
  ]
}