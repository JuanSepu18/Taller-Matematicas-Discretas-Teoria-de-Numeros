{
  "nbformat": 4,
  "nbformat_minor": 0,
  "metadata": {
    "colab": {
      "name": "05_coefsbezout",
      "provenance": [],
      "include_colab_link": true
    },
    "kernelspec": {
      "name": "python3",
      "display_name": "Python 3"
    },
    "language_info": {
      "name": "python"
    }
  },
  "cells": [
    {
      "cell_type": "markdown",
      "metadata": {
        "id": "view-in-github",
        "colab_type": "text"
      },
      "source": [
        "<a href=\"https://colab.research.google.com/github/JuanSepu18/Taller-Matematicas-Discretas-Teoria-de-Numeros/blob/main/05_coefsbezout.ipynb\" target=\"_parent\"><img src=\"https://colab.research.google.com/assets/colab-badge.svg\" alt=\"Open In Colab\"/></a>"
      ]
    },
    {
      "cell_type": "markdown",
      "source": [
        "![image.png](data:image/png;base64,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)"
      ],
      "metadata": {
        "id": "hvAuUtARn3aR"
      }
    },
    {
      "cell_type": "code",
      "source": [
        "#FUNCIÓN IMPORTADA DE UN PUNTO ANTERIOR\n",
        "def mcd(num1,num2):\n",
        "  if num2>num1:\n",
        "    variable = num2\n",
        "    num2 = num1\n",
        "    num1 = variable\n",
        "  residuo = 1000\n",
        "  while residuo != 0:\n",
        "    residuo = num1%num2\n",
        "\n",
        "    if residuo != 0:\n",
        "      num1 = num2\n",
        "      num2 = residuo\n",
        "      \n",
        "  return num2"
      ],
      "metadata": {
        "id": "TnsyUd4VA2R8"
      },
      "execution_count": 104,
      "outputs": []
    },
    {
      "cell_type": "code",
      "source": [
        "def coefs_bezout(a,b):\n",
        "  ainicial = a\n",
        "  binicial = b\n",
        "  \n",
        "  if b>a:\n",
        "    c = a\n",
        "    a = b\n",
        "    b = c\n",
        "\n",
        "  \n",
        "  listadeU = [1,0]\n",
        "  listadeV = [0,1]\n",
        "  coeficientes = []\n",
        "  contador = 2\n",
        "  while(a%b != 0):\n",
        "    coeficientes.append(a//b)\n",
        "    u = listadeU[contador-2] - (listadeU[contador-1] * coeficientes[contador-2])\n",
        "    listadeU.append(u)\n",
        "    v = listadeV[contador-2] - (listadeV[contador-1] * coeficientes[contador-2])\n",
        "    listadeV.append(v)\n",
        "    d = a\n",
        "    a = b\n",
        "    b = d%b\n",
        "    contador += 1\n",
        "  \n",
        "  if(ainicial > binicial):\n",
        "    bezout = [listadeU[-1],listadeV[-1]]\n",
        "  else:\n",
        "    bezout = [listadeV[-1],listadeU[-1]]\n",
        "  return bezout\n",
        "  "
      ],
      "metadata": {
        "id": "G0L_63YObfy5"
      },
      "execution_count": 105,
      "outputs": []
    },
    {
      "cell_type": "code",
      "source": [
        "coefs_bezout(273,110)"
      ],
      "metadata": {
        "colab": {
          "base_uri": "https://localhost:8080/"
        },
        "id": "Olb4CxjTdbE4",
        "outputId": "69765e27-af2b-4895-9998-14eae1b83525"
      },
      "execution_count": 106,
      "outputs": [
        {
          "output_type": "execute_result",
          "data": {
            "text/plain": [
              "[27, -67]"
            ]
          },
          "metadata": {},
          "execution_count": 106
        }
      ]
    },
    {
      "cell_type": "code",
      "source": [
        "coefs_bezout(147,232)"
      ],
      "metadata": {
        "colab": {
          "base_uri": "https://localhost:8080/"
        },
        "id": "UMsH2V2xn68_",
        "outputId": "a8097a68-8e20-425c-ccf0-0724954ea8a4"
      },
      "execution_count": 107,
      "outputs": [
        {
          "output_type": "execute_result",
          "data": {
            "text/plain": [
              "[-101, 64]"
            ]
          },
          "metadata": {},
          "execution_count": 107
        }
      ]
    },
    {
      "cell_type": "code",
      "source": [
        "coefs_bezout(5,16)"
      ],
      "metadata": {
        "colab": {
          "base_uri": "https://localhost:8080/"
        },
        "id": "KXDpl5cXoTwo",
        "outputId": "17e66ea4-c8e6-47f9-d5c8-1676b80d1be9"
      },
      "execution_count": 113,
      "outputs": [
        {
          "output_type": "execute_result",
          "data": {
            "text/plain": [
              "[-3, 1]"
            ]
          },
          "metadata": {},
          "execution_count": 113
        }
      ]
    },
    {
      "cell_type": "code",
      "source": [
        "def inverso_modulo(a,m):\n",
        "  output = f\"El número {a} no tiene un inverso módulo {m}, dado que estos no son primos relativos\"\n",
        "\n",
        "  if mcd(a,m) == 1:\n",
        "    coeficientes = coefs_bezout(a,m)\n",
        "    inverso = coeficientes[0]%m\n",
        "    output = f\"El numero {a} si tiene un inverso módulo {m}, el cual es {inverso}\"\n",
        "  \n",
        "  return output\n"
      ],
      "metadata": {
        "id": "0ITyMz-SiIZi"
      },
      "execution_count": 108,
      "outputs": []
    },
    {
      "cell_type": "code",
      "source": [
        "inverso_modulo(110,273)"
      ],
      "metadata": {
        "colab": {
          "base_uri": "https://localhost:8080/",
          "height": 35
        },
        "id": "QZzJmRJUjt2T",
        "outputId": "cdffd8b3-4204-4e38-df0e-11d28476be93"
      },
      "execution_count": 109,
      "outputs": [
        {
          "output_type": "execute_result",
          "data": {
            "application/vnd.google.colaboratory.intrinsic+json": {
              "type": "string"
            },
            "text/plain": [
              "'El numero 110 si tiene un inverso módulo 273, el cual es 206'"
            ]
          },
          "metadata": {},
          "execution_count": 109
        }
      ]
    },
    {
      "cell_type": "code",
      "source": [
        "inverso_modulo(5,16)"
      ],
      "metadata": {
        "colab": {
          "base_uri": "https://localhost:8080/",
          "height": 35
        },
        "id": "t247yIsPDb7r",
        "outputId": "ef7079be-0c2c-42b7-983d-dcd043d888a0"
      },
      "execution_count": 110,
      "outputs": [
        {
          "output_type": "execute_result",
          "data": {
            "application/vnd.google.colaboratory.intrinsic+json": {
              "type": "string"
            },
            "text/plain": [
              "'El numero 5 si tiene un inverso módulo 16, el cual es 13'"
            ]
          },
          "metadata": {},
          "execution_count": 110
        }
      ]
    },
    {
      "cell_type": "code",
      "source": [
        "inverso_modulo(5,465)"
      ],
      "metadata": {
        "colab": {
          "base_uri": "https://localhost:8080/",
          "height": 35
        },
        "id": "1faHz89rEZ8T",
        "outputId": "516c4bc5-40b0-42cc-9c28-735091e7ee99"
      },
      "execution_count": 111,
      "outputs": [
        {
          "output_type": "execute_result",
          "data": {
            "application/vnd.google.colaboratory.intrinsic+json": {
              "type": "string"
            },
            "text/plain": [
              "'El número 5 no tiene un inverso módulo 465, dado que estos no son primos relativos'"
            ]
          },
          "metadata": {},
          "execution_count": 111
        }
      ]
    },
    {
      "cell_type": "code",
      "source": [
        "inverso_modulo(147,232)"
      ],
      "metadata": {
        "colab": {
          "base_uri": "https://localhost:8080/",
          "height": 35
        },
        "id": "ztruab3koBUV",
        "outputId": "ad64f4ac-fee7-452f-b32c-597734fe8325"
      },
      "execution_count": 112,
      "outputs": [
        {
          "output_type": "execute_result",
          "data": {
            "application/vnd.google.colaboratory.intrinsic+json": {
              "type": "string"
            },
            "text/plain": [
              "'El numero 147 si tiene un inverso módulo 232, el cual es 131'"
            ]
          },
          "metadata": {},
          "execution_count": 112
        }
      ]
    }
  ]
}