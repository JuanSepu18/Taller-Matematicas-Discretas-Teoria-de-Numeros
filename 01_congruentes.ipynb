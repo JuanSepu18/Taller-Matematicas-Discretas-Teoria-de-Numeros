{
  "nbformat": 4,
  "nbformat_minor": 0,
  "metadata": {
    "colab": {
      "name": "01_congruentes",
      "provenance": [],
      "include_colab_link": true
    },
    "kernelspec": {
      "name": "python3",
      "display_name": "Python 3"
    },
    "language_info": {
      "name": "python"
    }
  },
  "cells": [
    {
      "cell_type": "markdown",
      "metadata": {
        "id": "view-in-github",
        "colab_type": "text"
      },
      "source": [
        "<a href=\"https://colab.research.google.com/github/JuanSepu18/Taller-Matematicas-Discretas-Teoria-de-Numeros/blob/main/01_congruentes.ipynb\" target=\"_parent\"><img src=\"https://colab.research.google.com/assets/colab-badge.svg\" alt=\"Open In Colab\"/></a>"
      ]
    },
    {
      "cell_type": "markdown",
      "source": [
        "1. (guardar como: '01_congruentes.ipynb'). Defina una funciónson_congruentes(a,b,m) cuyo output es el string \"Si!\" si $$a ≡ b mod m$$, y \"NO!\" en caso contrario."
      ],
      "metadata": {
        "id": "sTLz6sUuIzFV"
      }
    },
    {
      "cell_type": "code",
      "source": [
        "#SOLUCIÓN\n",
        "def son_congruentes(a,b,m):\n",
        "  if(a%m == b%m):\n",
        "    str = \"Si!\"\n",
        "  else:\n",
        "    str = \"NO!\"\n",
        "  return str  "
      ],
      "metadata": {
        "id": "C_UgbwhPIAKJ"
      },
      "execution_count": 2,
      "outputs": []
    },
    {
      "cell_type": "code",
      "source": [
        "#EJEMPLOS\n",
        "print(\"¿2 y 7 mod 5 son congruentes? \" + son_congruentes(2,7,5))\n",
        "# 2 y 7 mod 5 si son congruentes\n",
        "\n",
        "print(\"¿27 y 12 mod 6 son congruentes? \" + son_congruentes(27,12,6))\n",
        "#27 y 12 mod 6 no son congruentes\n",
        "\n",
        "print(\"¿12 y 14 mod 8 son congruentes? \" + son_congruentes(12,14,8))\n",
        "#12 y 14 mod 8 no son congruentes"
      ],
      "metadata": {
        "colab": {
          "base_uri": "https://localhost:8080/"
        },
        "id": "MYdQDd-cJLuc",
        "outputId": "22ec6b12-a73f-4333-b150-e6ce53ed6c0a"
      },
      "execution_count": 10,
      "outputs": [
        {
          "output_type": "stream",
          "name": "stdout",
          "text": [
            "¿2 y 7 mod 5 son congruentes? Si!\n",
            "¿27 y 12 mod 6 son congruentes? NO!\n",
            "¿12 y 14 mod 8 son congruentes? NO!\n"
          ]
        }
      ]
    },
    {
      "cell_type": "code",
      "source": [
        "son_congruentes(5,8,3)"
      ],
      "metadata": {
        "colab": {
          "base_uri": "https://localhost:8080/",
          "height": 35
        },
        "id": "6EDQxtT6KHkp",
        "outputId": "5fc311af-4cfe-431d-9cca-4bde809940a7"
      },
      "execution_count": 11,
      "outputs": [
        {
          "output_type": "execute_result",
          "data": {
            "application/vnd.google.colaboratory.intrinsic+json": {
              "type": "string"
            },
            "text/plain": [
              "'Si!'"
            ]
          },
          "metadata": {},
          "execution_count": 11
        }
      ]
    },
    {
      "cell_type": "code",
      "source": [
        "son_congruentes(126,180,19)"
      ],
      "metadata": {
        "colab": {
          "base_uri": "https://localhost:8080/",
          "height": 35
        },
        "id": "Ehg2dI5ZJabQ",
        "outputId": "d139989f-35b5-4ebf-e3da-23fb232832e1"
      },
      "execution_count": 12,
      "outputs": [
        {
          "output_type": "execute_result",
          "data": {
            "application/vnd.google.colaboratory.intrinsic+json": {
              "type": "string"
            },
            "text/plain": [
              "'NO!'"
            ]
          },
          "metadata": {},
          "execution_count": 12
        }
      ]
    },
    {
      "cell_type": "code",
      "source": [
        "son_congruentes(-15,-36,9)"
      ],
      "metadata": {
        "colab": {
          "base_uri": "https://localhost:8080/",
          "height": 35
        },
        "id": "13WgdMy3KdQK",
        "outputId": "edd12575-2f31-49ea-e39b-f0ae98c849a0"
      },
      "execution_count": 13,
      "outputs": [
        {
          "output_type": "execute_result",
          "data": {
            "application/vnd.google.colaboratory.intrinsic+json": {
              "type": "string"
            },
            "text/plain": [
              "'NO!'"
            ]
          },
          "metadata": {},
          "execution_count": 13
        }
      ]
    }
  ]
}