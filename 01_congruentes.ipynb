{
  "nbformat": 4,
  "nbformat_minor": 0,
  "metadata": {
    "colab": {
      "name": "01_congruentes",
      "provenance": [],
      "include_colab_link": true
    },
    "kernelspec": {
      "name": "python3",
      "display_name": "Python 3"
    },
    "language_info": {
      "name": "python"
    }
  },
  "cells": [
    {
      "cell_type": "markdown",
      "metadata": {
        "id": "view-in-github",
        "colab_type": "text"
      },
      "source": [
        "<a href=\"https://colab.research.google.com/github/JuanSepu18/Taller-Matematicas-Discretas-Teoria-de-Numeros/blob/main/01_congruentes.ipynb\" target=\"_parent\"><img src=\"https://colab.research.google.com/assets/colab-badge.svg\" alt=\"Open In Colab\"/></a>"
      ]
    },
    {
      "cell_type": "markdown",
      "source": [
        "1. (guardar como: '01_congruentes.ipynb'). Defina una funciónson_congruentes(a,b,m) cuyo output es el string \"Si!\" si $$a ≡ b mod m$$, y \"NO!\" en caso contrario."
      ],
      "metadata": {
        "id": "sTLz6sUuIzFV"
      }
    },
    {
      "cell_type": "code",
      "source": [
        "#SOLUCIÓN\n",
        "def son_congruentes(a,b,m):\n",
        "  if(a%m == b%m):\n",
        "    str = \"Si!\"\n",
        "  else:\n",
        "    str = \"NO!\"\n",
        "  print(f\"{a} y {b} mod {5} son congruentes? \\n{str}\" )"
      ],
      "metadata": {
        "id": "C_UgbwhPIAKJ"
      },
      "execution_count": 1,
      "outputs": []
    },
    {
      "cell_type": "code",
      "source": [
        "#EJEMPLOS\n",
        "son_congruentes(2,7,5)\n",
        "# 2 y 7 mod 5 si son congruentes\n",
        "\n",
        "son_congruentes(27,12,6)\n",
        "#27 y 12 mod 6 no son congruentes\n",
        "\n",
        "son_congruentes(12,14,8)\n",
        "#12 y 14 mod 8 no son congruentes"
      ],
      "metadata": {
        "colab": {
          "base_uri": "https://localhost:8080/"
        },
        "id": "MYdQDd-cJLuc",
        "outputId": "76edcf89-8c22-49cd-8829-687dc9238817"
      },
      "execution_count": 3,
      "outputs": [
        {
          "output_type": "stream",
          "name": "stdout",
          "text": [
            "2 y 7 mod 5 son congruentes? \n",
            "Si!\n",
            "27 y 12 mod 5 son congruentes? \n",
            "NO!\n",
            "12 y 14 mod 5 son congruentes? \n",
            "NO!\n"
          ]
        }
      ]
    },
    {
      "cell_type": "code",
      "source": [
        "son_congruentes(5,8,3)"
      ],
      "metadata": {
        "colab": {
          "base_uri": "https://localhost:8080/"
        },
        "id": "6EDQxtT6KHkp",
        "outputId": "86a9d935-ffb4-4b84-c031-c696a577d4d5"
      },
      "execution_count": 4,
      "outputs": [
        {
          "output_type": "stream",
          "name": "stdout",
          "text": [
            "5 y 8 mod 5 son congruentes? \n",
            "Si!\n"
          ]
        }
      ]
    },
    {
      "cell_type": "code",
      "source": [
        "son_congruentes(126,180,19)"
      ],
      "metadata": {
        "colab": {
          "base_uri": "https://localhost:8080/"
        },
        "id": "Ehg2dI5ZJabQ",
        "outputId": "5aa29fea-a354-46f0-e7e5-34a84a86855c"
      },
      "execution_count": 5,
      "outputs": [
        {
          "output_type": "stream",
          "name": "stdout",
          "text": [
            "126 y 180 mod 5 son congruentes? \n",
            "NO!\n"
          ]
        }
      ]
    },
    {
      "cell_type": "code",
      "source": [
        "son_congruentes(-15,-36,9)"
      ],
      "metadata": {
        "colab": {
          "base_uri": "https://localhost:8080/"
        },
        "id": "13WgdMy3KdQK",
        "outputId": "6a018ea8-6d9f-4240-851e-4809eedab625"
      },
      "execution_count": 6,
      "outputs": [
        {
          "output_type": "stream",
          "name": "stdout",
          "text": [
            "-15 y -36 mod 5 son congruentes? \n",
            "NO!\n"
          ]
        }
      ]
    }
  ]
}