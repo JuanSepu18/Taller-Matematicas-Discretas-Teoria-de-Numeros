def son_congruentes(a,b,m):
